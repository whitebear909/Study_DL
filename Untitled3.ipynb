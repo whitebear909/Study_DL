{
 "cells": [
  {
   "cell_type": "code",
   "execution_count": 3,
   "metadata": {},
   "outputs": [
    {
     "name": "stdout",
     "output_type": "stream",
     "text": [
      "Requirement already satisfied: MLflow in c:\\users\\user\\appdata\\local\\continuum\\anaconda364\\lib\\site-packages (0.9.1)\n",
      "Requirement already satisfied: simplejson in c:\\users\\user\\appdata\\local\\continuum\\anaconda364\\lib\\site-packages (from MLflow) (3.16.0)\n",
      "Requirement already satisfied: requests>=2.17.3 in c:\\users\\user\\appdata\\local\\continuum\\anaconda364\\lib\\site-packages (from MLflow) (2.21.0)\n",
      "Requirement already satisfied: six>=1.10.0 in c:\\users\\user\\appdata\\local\\continuum\\anaconda364\\lib\\site-packages (from MLflow) (1.12.0)\n",
      "Requirement already satisfied: pyyaml in c:\\users\\user\\appdata\\local\\continuum\\anaconda364\\lib\\site-packages (from MLflow) (5.1)\n",
      "Requirement already satisfied: Flask in c:\\users\\user\\appdata\\local\\continuum\\anaconda364\\lib\\site-packages (from MLflow) (1.0.2)\n",
      "Requirement already satisfied: scikit-learn in c:\\users\\user\\appdata\\local\\continuum\\anaconda364\\lib\\site-packages (from MLflow) (0.20.3)\n",
      "Requirement already satisfied: protobuf>=3.6.0 in c:\\users\\user\\appdata\\local\\continuum\\anaconda364\\lib\\site-packages (from MLflow) (3.7.1)\n",
      "Requirement already satisfied: docker>=3.6.0 in c:\\users\\user\\appdata\\local\\continuum\\anaconda364\\lib\\site-packages (from MLflow) (3.7.2)\n",
      "Requirement already satisfied: numpy in c:\\users\\user\\appdata\\local\\continuum\\anaconda364\\lib\\site-packages (from MLflow) (1.16.3)\n",
      "Requirement already satisfied: sqlparse in c:\\users\\user\\appdata\\local\\continuum\\anaconda364\\lib\\site-packages (from MLflow) (0.3.0)\n",
      "Requirement already satisfied: pandas in c:\\users\\user\\appdata\\local\\continuum\\anaconda364\\lib\\site-packages (from MLflow) (0.24.2)\n",
      "Requirement already satisfied: gunicorn in c:\\users\\user\\appdata\\local\\continuum\\anaconda364\\lib\\site-packages (from MLflow) (19.9.0)\n",
      "Requirement already satisfied: scipy in c:\\users\\user\\appdata\\local\\continuum\\anaconda364\\lib\\site-packages (from MLflow) (1.2.1)\n",
      "Requirement already satisfied: python-dateutil in c:\\users\\user\\appdata\\local\\continuum\\anaconda364\\lib\\site-packages (from MLflow) (2.8.0)\n",
      "Requirement already satisfied: boto3>=1.7.12 in c:\\users\\user\\appdata\\local\\continuum\\anaconda364\\lib\\site-packages (from MLflow) (1.9.150)\n",
      "Requirement already satisfied: click>=7.0 in c:\\users\\user\\appdata\\local\\continuum\\anaconda364\\lib\\site-packages (from MLflow) (7.0)\n",
      "Requirement already satisfied: querystring-parser in c:\\users\\user\\appdata\\local\\continuum\\anaconda364\\lib\\site-packages (from MLflow) (1.2.3)\n",
      "Requirement already satisfied: cloudpickle in c:\\users\\user\\appdata\\local\\continuum\\anaconda364\\lib\\site-packages (from MLflow) (0.8.1)\n",
      "Requirement already satisfied: gitpython>=2.1.0 in c:\\users\\user\\appdata\\local\\continuum\\anaconda364\\lib\\site-packages (from MLflow) (2.1.11)\n",
      "Requirement already satisfied: databricks-cli>=0.8.0 in c:\\users\\user\\appdata\\local\\continuum\\anaconda364\\lib\\site-packages (from MLflow) (0.8.6)\n",
      "Requirement already satisfied: entrypoints in c:\\users\\user\\appdata\\local\\continuum\\anaconda364\\lib\\site-packages (from MLflow) (0.3)\n",
      "Requirement already satisfied: mleap>=0.8.1 in c:\\users\\user\\appdata\\local\\continuum\\anaconda364\\lib\\site-packages (from MLflow) (0.8.1)\n",
      "Requirement already satisfied: idna<2.9,>=2.5 in c:\\users\\user\\appdata\\local\\continuum\\anaconda364\\lib\\site-packages (from requests>=2.17.3->MLflow) (2.8)\n",
      "Requirement already satisfied: chardet<3.1.0,>=3.0.2 in c:\\users\\user\\appdata\\local\\continuum\\anaconda364\\lib\\site-packages (from requests>=2.17.3->MLflow) (3.0.4)\n",
      "Requirement already satisfied: certifi>=2017.4.17 in c:\\users\\user\\appdata\\local\\continuum\\anaconda364\\lib\\site-packages (from requests>=2.17.3->MLflow) (2019.3.9)\n",
      "Requirement already satisfied: urllib3<1.25,>=1.21.1 in c:\\users\\user\\appdata\\local\\continuum\\anaconda364\\lib\\site-packages (from requests>=2.17.3->MLflow) (1.24.2)\n",
      "Requirement already satisfied: Jinja2>=2.10 in c:\\users\\user\\appdata\\local\\continuum\\anaconda364\\lib\\site-packages (from Flask->MLflow) (2.10.1)\n",
      "Requirement already satisfied: itsdangerous>=0.24 in c:\\users\\user\\appdata\\local\\continuum\\anaconda364\\lib\\site-packages (from Flask->MLflow) (1.1.0)\n",
      "Requirement already satisfied: Werkzeug>=0.14 in c:\\users\\user\\appdata\\local\\continuum\\anaconda364\\lib\\site-packages (from Flask->MLflow) (0.15.2)\n",
      "Requirement already satisfied: setuptools in c:\\users\\user\\appdata\\local\\continuum\\anaconda364\\lib\\site-packages (from protobuf>=3.6.0->MLflow) (41.0.0)\n",
      "Requirement already satisfied: pypiwin32==223; sys_platform == \"win32\" and python_version >= \"3.6\" in c:\\users\\user\\appdata\\local\\continuum\\anaconda364\\lib\\site-packages (from docker>=3.6.0->MLflow) (223)\n",
      "Requirement already satisfied: websocket-client>=0.32.0 in c:\\users\\user\\appdata\\local\\continuum\\anaconda364\\lib\\site-packages (from docker>=3.6.0->MLflow) (0.56.0)\n",
      "Requirement already satisfied: docker-pycreds>=0.4.0 in c:\\users\\user\\appdata\\local\\continuum\\anaconda364\\lib\\site-packages (from docker>=3.6.0->MLflow) (0.4.0)\n",
      "Requirement already satisfied: pytz>=2011k in c:\\users\\user\\appdata\\local\\continuum\\anaconda364\\lib\\site-packages (from pandas->MLflow) (2019.1)\n",
      "Requirement already satisfied: s3transfer<0.3.0,>=0.2.0 in c:\\users\\user\\appdata\\local\\continuum\\anaconda364\\lib\\site-packages (from boto3>=1.7.12->MLflow) (0.2.0)\n",
      "Requirement already satisfied: botocore<1.13.0,>=1.12.150 in c:\\users\\user\\appdata\\local\\continuum\\anaconda364\\lib\\site-packages (from boto3>=1.7.12->MLflow) (1.12.150)\n",
      "Requirement already satisfied: jmespath<1.0.0,>=0.7.1 in c:\\users\\user\\appdata\\local\\continuum\\anaconda364\\lib\\site-packages (from boto3>=1.7.12->MLflow) (0.9.4)\n",
      "Requirement already satisfied: gitdb2>=2.0.0 in c:\\users\\user\\appdata\\local\\continuum\\anaconda364\\lib\\site-packages (from gitpython>=2.1.0->MLflow) (2.0.5)\n",
      "Requirement already satisfied: tabulate>=0.7.7 in c:\\users\\user\\appdata\\local\\continuum\\anaconda364\\lib\\site-packages (from databricks-cli>=0.8.0->MLflow) (0.8.3)\n",
      "Requirement already satisfied: configparser>=0.3.5 in c:\\users\\user\\appdata\\local\\continuum\\anaconda364\\lib\\site-packages (from databricks-cli>=0.8.0->MLflow) (3.7.4)\n",
      "Requirement already satisfied: argparse>=1.1 in c:\\users\\user\\appdata\\local\\continuum\\anaconda364\\lib\\site-packages (from mleap>=0.8.1->MLflow) (1.4.0)\n",
      "Requirement already satisfied: nose-exclude>=0.5.0 in c:\\users\\user\\appdata\\local\\continuum\\anaconda364\\lib\\site-packages (from mleap>=0.8.1->MLflow) (0.5.0)\n",
      "Requirement already satisfied: MarkupSafe>=0.23 in c:\\users\\user\\appdata\\local\\continuum\\anaconda364\\lib\\site-packages (from Jinja2>=2.10->Flask->MLflow) (1.1.1)\n",
      "Requirement already satisfied: pywin32>=223 in c:\\users\\user\\appdata\\local\\continuum\\anaconda364\\lib\\site-packages (from pypiwin32==223; sys_platform == \"win32\" and python_version >= \"3.6\"->docker>=3.6.0->MLflow) (223)\n",
      "Requirement already satisfied: docutils>=0.10 in c:\\users\\user\\appdata\\local\\continuum\\anaconda364\\lib\\site-packages (from botocore<1.13.0,>=1.12.150->boto3>=1.7.12->MLflow) (0.14)\n",
      "Requirement already satisfied: smmap2>=2.0.0 in c:\\users\\user\\appdata\\local\\continuum\\anaconda364\\lib\\site-packages (from gitdb2>=2.0.0->gitpython>=2.1.0->MLflow) (2.0.5)\n",
      "Requirement already satisfied: nose in c:\\users\\user\\appdata\\local\\continuum\\anaconda364\\lib\\site-packages (from nose-exclude>=0.5.0->mleap>=0.8.1->MLflow) (1.3.7)\n"
     ]
    }
   ],
   "source": [
    "!pip install MLflow"
   ]
  },
  {
   "cell_type": "code",
   "execution_count": null,
   "metadata": {},
   "outputs": [],
   "source": []
  },
  {
   "cell_type": "code",
   "execution_count": 4,
   "metadata": {},
   "outputs": [],
   "source": [
    "import os\n",
    "import warnings\n",
    "import sys\n",
    "\n",
    "import pandas as pd\n",
    "import numpy as np\n",
    "from sklearn.metrics import mean_squared_error, mean_absolute_error, r2_score\n",
    "from sklearn.model_selection import train_test_split\n",
    "from sklearn.linear_model import ElasticNet\n",
    "\n",
    "import mlflow\n",
    "import mlflow.sklearn"
   ]
  },
  {
   "cell_type": "code",
   "execution_count": 9,
   "metadata": {},
   "outputs": [
    {
     "name": "stderr",
     "output_type": "stream",
     "text": [
      "Cloning into 'mlflow-example'...\n"
     ]
    }
   ],
   "source": [
    "!git clone https://github.com/mlflow/mlflow-example.git"
   ]
  },
  {
   "cell_type": "code",
   "execution_count": 8,
   "metadata": {},
   "outputs": [
    {
     "ename": "NameError",
     "evalue": "name '__file__' is not defined",
     "output_type": "error",
     "traceback": [
      "\u001b[1;31m---------------------------------------------------------------------------\u001b[0m",
      "\u001b[1;31mNameError\u001b[0m                                 Traceback (most recent call last)",
      "\u001b[1;32m<ipython-input-8-39b5e153d369>\u001b[0m in \u001b[0;36m<module>\u001b[1;34m\u001b[0m\n\u001b[0;32m     12\u001b[0m \u001b[1;33m\u001b[0m\u001b[0m\n\u001b[0;32m     13\u001b[0m     \u001b[1;31m# Read the wine-quality csv file (make sure you're running this from the root of MLflow!)\u001b[0m\u001b[1;33m\u001b[0m\u001b[1;33m\u001b[0m\u001b[1;33m\u001b[0m\u001b[0m\n\u001b[1;32m---> 14\u001b[1;33m     \u001b[0mwine_path\u001b[0m \u001b[1;33m=\u001b[0m \u001b[0mos\u001b[0m\u001b[1;33m.\u001b[0m\u001b[0mpath\u001b[0m\u001b[1;33m.\u001b[0m\u001b[0mjoin\u001b[0m\u001b[1;33m(\u001b[0m\u001b[0mos\u001b[0m\u001b[1;33m.\u001b[0m\u001b[0mpath\u001b[0m\u001b[1;33m.\u001b[0m\u001b[0mdirname\u001b[0m\u001b[1;33m(\u001b[0m\u001b[0mos\u001b[0m\u001b[1;33m.\u001b[0m\u001b[0mpath\u001b[0m\u001b[1;33m.\u001b[0m\u001b[0mabspath\u001b[0m\u001b[1;33m(\u001b[0m\u001b[0m__file__\u001b[0m\u001b[1;33m)\u001b[0m\u001b[1;33m)\u001b[0m\u001b[1;33m,\u001b[0m \u001b[1;34m\"wine-quality.csv\"\u001b[0m\u001b[1;33m)\u001b[0m\u001b[1;33m\u001b[0m\u001b[1;33m\u001b[0m\u001b[0m\n\u001b[0m\u001b[0;32m     15\u001b[0m     \u001b[0mprint\u001b[0m\u001b[1;33m(\u001b[0m\u001b[0mwind_path\u001b[0m\u001b[1;33m)\u001b[0m\u001b[1;33m\u001b[0m\u001b[1;33m\u001b[0m\u001b[0m\n\u001b[0;32m     16\u001b[0m \u001b[1;33m\u001b[0m\u001b[0m\n",
      "\u001b[1;31mNameError\u001b[0m: name '__file__' is not defined"
     ]
    }
   ],
   "source": [
    "def eval_metrics(actual, pred):\n",
    "    rmse = np.sqrt(mean_squared_error(actual, pred))\n",
    "    mae = mean_absolute_error(actual, pred)\n",
    "    r2 = r2_score(actual, pred)\n",
    "    return rmse, mae, r2\n",
    "\n",
    "\n",
    "\n",
    "if __name__ == \"__main__\":\n",
    "    warnings.filterwarnings(\"ignore\")\n",
    "    np.random.seed(40)\n",
    "\n",
    "    # Read the wine-quality csv file (make sure you're running this from the root of MLflow!)\n",
    "    wine_path = os.path.join(os.path.dirname(os.path.abspath(__file__)), \"wine-quality.csv\")\n",
    "    print(wind_path)\n",
    "    \n",
    "#     data = pd.read_csv(wine_path)\n",
    "\n",
    "#     # Split the data into training and test sets. (0.75, 0.25) split.\n",
    "#     train, test = train_test_split(data)\n",
    "\n",
    "#     # The predicted column is \"quality\" which is a scalar from [3, 9]\n",
    "#     train_x = train.drop([\"quality\"], axis=1)\n",
    "#     test_x = test.drop([\"quality\"], axis=1)\n",
    "#     train_y = train[[\"quality\"]]\n",
    "#     test_y = test[[\"quality\"]]\n",
    "\n",
    "#     alpha = float(sys.argv[1]) if len(sys.argv) > 1 else 0.5\n",
    "#     l1_ratio = float(sys.argv[2]) if len(sys.argv) > 2 else 0.5\n",
    "\n",
    "#     with mlflow.start_run():\n",
    "#         lr = ElasticNet(alpha=alpha, l1_ratio=l1_ratio, random_state=42)\n",
    "#         lr.fit(train_x, train_y)\n",
    "\n",
    "#         predicted_qualities = lr.predict(test_x)\n",
    "\n",
    "#         (rmse, mae, r2) = eval_metrics(test_y, predicted_qualities)\n",
    "\n",
    "#         print(\"Elasticnet model (alpha=%f, l1_ratio=%f):\" % (alpha, l1_ratio))\n",
    "#         print(\"  RMSE: %s\" % rmse)\n",
    "#         print(\"  MAE: %s\" % mae)\n",
    "#         print(\"  R2: %s\" % r2)\n",
    "\n",
    "#         mlflow.log_param(\"alpha\", alpha)\n",
    "#         mlflow.log_param(\"l1_ratio\", l1_ratio)\n",
    "#         mlflow.log_metric(\"rmse\", rmse)\n",
    "#         mlflow.log_metric(\"r2\", r2)\n",
    "#         mlflow.log_metric(\"mae\", mae)\n",
    "\n",
    "#         mlflow.sklearn.log_model(lr, \"model\")"
   ]
  },
  {
   "cell_type": "code",
   "execution_count": null,
   "metadata": {},
   "outputs": [],
   "source": [
    "os.path.join(os.path.dirname(os.path.abspath('__file__'))"
   ]
  },
  {
   "cell_type": "code",
   "execution_count": 11,
   "metadata": {},
   "outputs": [
    {
     "ename": "NameError",
     "evalue": "name '__file__' is not defined",
     "output_type": "error",
     "traceback": [
      "\u001b[1;31m---------------------------------------------------------------------------\u001b[0m",
      "\u001b[1;31mNameError\u001b[0m                                 Traceback (most recent call last)",
      "\u001b[1;32m<ipython-input-11-880eb789ae8a>\u001b[0m in \u001b[0;36m<module>\u001b[1;34m\u001b[0m\n\u001b[1;32m----> 1\u001b[1;33m \u001b[0mos\u001b[0m\u001b[1;33m.\u001b[0m\u001b[0mpath\u001b[0m\u001b[1;33m.\u001b[0m\u001b[0mdirname\u001b[0m\u001b[1;33m(\u001b[0m\u001b[0mos\u001b[0m\u001b[1;33m.\u001b[0m\u001b[0mpath\u001b[0m\u001b[1;33m.\u001b[0m\u001b[0mabspath\u001b[0m\u001b[1;33m(\u001b[0m\u001b[0m__file__\u001b[0m\u001b[1;33m)\u001b[0m\u001b[1;33m)\u001b[0m\u001b[1;33m\u001b[0m\u001b[1;33m\u001b[0m\u001b[0m\n\u001b[0m",
      "\u001b[1;31mNameError\u001b[0m: name '__file__' is not defined"
     ]
    }
   ],
   "source": [
    "os.path.dirname(os.path.abspath(__file__))"
   ]
  },
  {
   "cell_type": "code",
   "execution_count": null,
   "metadata": {},
   "outputs": [],
   "source": []
  }
 ],
 "metadata": {
  "kernelspec": {
   "display_name": "Python 3",
   "language": "python",
   "name": "python3"
  },
  "language_info": {
   "codemirror_mode": {
    "name": "ipython",
    "version": 3
   },
   "file_extension": ".py",
   "mimetype": "text/x-python",
   "name": "python",
   "nbconvert_exporter": "python",
   "pygments_lexer": "ipython3",
   "version": "3.6.8"
  }
 },
 "nbformat": 4,
 "nbformat_minor": 2
}
