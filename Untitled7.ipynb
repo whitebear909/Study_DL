{
 "cells": [
  {
   "cell_type": "code",
   "execution_count": 1,
   "metadata": {},
   "outputs": [],
   "source": [
    "a = 1"
   ]
  },
  {
   "cell_type": "code",
   "execution_count": 3,
   "metadata": {},
   "outputs": [],
   "source": [
    "b = 2"
   ]
  },
  {
   "cell_type": "code",
   "execution_count": 4,
   "metadata": {},
   "outputs": [
    {
     "name": "stderr",
     "output_type": "stream",
     "text": [
      "JupyterLab v0.35.4\n",
      "No installed extensions\n"
     ]
    }
   ],
   "source": [
    "!jupyter labextension list"
   ]
  },
  {
   "cell_type": "code",
   "execution_count": 1,
   "metadata": {},
   "outputs": [
    {
     "name": "stdout",
     "output_type": "stream",
     "text": [
      "npm notice \n",
      "npm notice package: my-extension@0.0.1\n",
      "npm notice === Tarball Contents === \n",
      "npm notice 862B  package.json                         \n",
      "npm notice 82B   my-extension.d.ts                    \n",
      "npm notice 1.8kB my-extension.metadata.json           \n",
      "npm notice 91B   public_api.d.ts                      \n",
      "npm notice 601B  assets/my-extension.json             \n",
      "npm notice 6.1kB bundles/my-extension.umd.js          \n",
      "npm notice 2.0kB bundles/my-extension.umd.js.map      \n",
      "npm notice 1.4kB bundles/my-extension.umd.min.js      \n",
      "npm notice 2.0kB bundles/my-extension.umd.min.js.map  \n",
      "npm notice 1.5kB esm2015/lib/my-extension.component.js\n",
      "npm notice 3.5kB esm2015/lib/my-extension.module.js   \n",
      "npm notice 635B  esm2015/my-extension.js              \n",
      "npm notice 813B  esm2015/public_api.js                \n",
      "npm notice 1.8kB esm5/lib/my-extension.component.js   \n",
      "npm notice 3.7kB esm5/lib/my-extension.module.js      \n",
      "npm notice 635B  esm5/my-extension.js                 \n",
      "npm notice 813B  esm5/public_api.js                   \n",
      "npm notice 4.6kB fesm2015/my-extension.js             \n",
      "npm notice 1.9kB fesm2015/my-extension.js.map         \n",
      "npm notice 4.9kB fesm5/my-extension.js                \n",
      "npm notice 1.9kB fesm5/my-extension.js.map            \n",
      "npm notice 150B  lib/my-extension.component.d.ts      \n",
      "npm notice 155B  lib/my-extension.module.d.ts         \n",
      "npm notice === Tarball Details === \n",
      "npm notice name:          my-extension                            \n",
      "npm notice version:       0.0.1                                   \n",
      "npm notice filename:      my-extension-0.0.1.tgz                  \n",
      "npm notice package size:  8.1 kB                                  \n",
      "npm notice unpacked size: 42.0 kB                                 \n",
      "npm notice shasum:        40228e03262e1007d2a290f9b3508dd05e009ad1\n",
      "npm notice integrity:     sha512-R11TwETbHq6Ae[...]mCYDZ2Zc6Gmtw==\n",
      "npm notice total files:   23                                      \n",
      "npm notice \n",
      "my-extension-0.0.1.tgz\n"
     ]
    },
    {
     "name": "stderr",
     "output_type": "stream",
     "text": [
      "Node v10.15.3\n",
      "\n",
      "> \"C:\\Program Files\\nodejs\\npm.CMD\" pack my-extension\n",
      "\n",
      "Errored, use --debug for full output:\n",
      "ValueError: \"my-extension\" is not a valid extension:\n",
      "No `jupyterlab` key\n"
     ]
    }
   ],
   "source": [
    "!jupyter labextension install my-extension"
   ]
  },
  {
   "cell_type": "code",
   "execution_count": null,
   "metadata": {},
   "outputs": [],
   "source": []
  }
 ],
 "metadata": {
  "kernelspec": {
   "display_name": "Python 3",
   "language": "python",
   "name": "python3"
  },
  "language_info": {
   "codemirror_mode": {
    "name": "ipython",
    "version": 3
   },
   "file_extension": ".py",
   "mimetype": "text/x-python",
   "name": "python",
   "nbconvert_exporter": "python",
   "pygments_lexer": "ipython3",
   "version": "3.6.8"
  }
 },
 "nbformat": 4,
 "nbformat_minor": 2
}
