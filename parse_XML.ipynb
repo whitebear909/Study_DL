{
 "cells": [
  {
   "cell_type": "code",
   "execution_count": 1,
   "metadata": {},
   "outputs": [],
   "source": [
    "import pandas as pd\n",
    "import xml.etree.ElementTree as et"
   ]
  },
  {
   "cell_type": "code",
   "execution_count": 1,
   "metadata": {},
   "outputs": [],
   "source": [
    "def parse_XML(xml_file, df_cols, root_tag): \n",
    "    \"\"\"Parse the input XML file and store the result in a pandas DataFrame \n",
    "    with the given columns. The first element of df_cols is supposed to be \n",
    "    the identifier variable, which is an attribute of each node element in \n",
    "    the XML data; other features will be parsed from the text content of \n",
    "    each sub-element. \"\"\"    \n",
    "   \n",
    "    xroot = et.parse(xml_file).getroot()\n",
    "    out_df = pd.DataFrame(columns = df_cols)\n",
    "    links = list(xroot.iter(root_tag))    \n",
    "\n",
    "    for node in links:\n",
    "        res = []\n",
    "        for el in df_cols[:]: \n",
    "            if node is not None and node.find(el) is not None:\n",
    "                res.append(node.find(el).text)\n",
    "            else: \n",
    "                res.append(None)\n",
    "        out_df = out_df.append(pd.Series(res, index = df_cols), ignore_index=True)\n",
    "        \n",
    "    return out_df\n",
    "\n",
    "\n",
    "def parse_normal_XML(xml_file, df_cols): \n",
    "    \"\"\"Parse the input XML file and store the result in a pandas DataFrame \n",
    "    with the given columns. The first element of df_cols is supposed to be \n",
    "    the identifier variable, which is an attribute of each node element in \n",
    "    the XML data; other features will be parsed from the text content of \n",
    "    each sub-element. \"\"\"    \n",
    "    \n",
    "    xroot = et.parse(xml_file).getroot()\n",
    "    out_df = pd.DataFrame(columns = df_cols)\n",
    "    \n",
    "    for node in xroot: \n",
    "        res = []\n",
    "        res.append(node.attrib.get(df_cols[0]))\n",
    "        for el in df_cols[1:]: \n",
    "            if node is not None and node.find(el) is not None:\n",
    "                res.append(node.find(el).text)\n",
    "            else: \n",
    "                res.append(None)\n",
    "        out_df = out_df.append(pd.Series(res, index = df_cols), ignore_index=True)\n",
    "        \n",
    "    return out_df\n",
    "\n",
    "\n",
    "def parse_XML_file(xml_file, df_cols): \n",
    "    \"\"\"Parse the input XML file and store the result in a pandas DataFrame \n",
    "    with the given columns. The first element of df_cols is supposed to be \n",
    "    the identifier variable, which is an attribute of each node element in \n",
    "    the XML data; other features will be parsed from the text content of \n",
    "    each sub-element. \"\"\"\n",
    "    \n",
    "    xtree = et.parse(xml_file)\n",
    "    xroot = xtree.getroot()\n",
    "    out_df = pd.DataFrame(columns = df_cols)\n",
    "    \n",
    "    for node in xroot: \n",
    "        res = []\n",
    "        res.append(node.attrib.get(df_cols[0]))\n",
    "        for el in df_cols[1:]: \n",
    "            if node is not None and node.find(el) is not None:\n",
    "                res.append(node.find(el).text)\n",
    "            else: \n",
    "                res.append(None)\n",
    "        out_df = out_df.append(pd.Series(res, index = df_cols), ignore_index=True)\n",
    "        \n",
    "    return out_df"
   ]
  },
  {
   "cell_type": "code",
   "execution_count": null,
   "metadata": {},
   "outputs": [],
   "source": []
  }
 ],
 "metadata": {
  "kernelspec": {
   "display_name": "Python 3",
   "language": "python",
   "name": "python3"
  },
  "language_info": {
   "codemirror_mode": {
    "name": "ipython",
    "version": 3
   },
   "file_extension": ".py",
   "mimetype": "text/x-python",
   "name": "python",
   "nbconvert_exporter": "python",
   "pygments_lexer": "ipython3",
   "version": "3.6.8"
  },
  "toc": {
   "base_numbering": 1,
   "nav_menu": {},
   "number_sections": true,
   "sideBar": true,
   "skip_h1_title": false,
   "title_cell": "Table of Contents",
   "title_sidebar": "Contents",
   "toc_cell": false,
   "toc_position": {},
   "toc_section_display": true,
   "toc_window_display": false
  },
  "varInspector": {
   "cols": {
    "lenName": 16,
    "lenType": 16,
    "lenVar": 40
   },
   "kernels_config": {
    "python": {
     "delete_cmd_postfix": "",
     "delete_cmd_prefix": "del ",
     "library": "var_list.py",
     "varRefreshCmd": "print(var_dic_list())"
    },
    "r": {
     "delete_cmd_postfix": ") ",
     "delete_cmd_prefix": "rm(",
     "library": "var_list.r",
     "varRefreshCmd": "cat(var_dic_list()) "
    }
   },
   "types_to_exclude": [
    "module",
    "function",
    "builtin_function_or_method",
    "instance",
    "_Feature"
   ],
   "window_display": false
  }
 },
 "nbformat": 4,
 "nbformat_minor": 2
}
